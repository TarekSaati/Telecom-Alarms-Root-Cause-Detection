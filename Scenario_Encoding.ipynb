{
 "cells": [
  {
   "cell_type": "code",
   "execution_count": null,
   "id": "2dac0a6c-db66-4787-a3e9-9bd8e69a523d",
   "metadata": {},
   "outputs": [],
   "source": [
    "from ast import literal_eval\n",
    "import pandas as pd\n",
    "from sentence_transformers import SentenceTransformer, models\n",
    "#import torchsummary"
   ]
  },
  {
   "cell_type": "code",
   "execution_count": 9,
   "id": "8fc4b722-b869-427d-b930-80011ff0dbe8",
   "metadata": {},
   "outputs": [],
   "source": [
    "full_seg_data = pd.read_csv(r\".\\segments_with_title_only.csv\", index_col='Segment ID', converters={\"Alarm Title\": literal_eval}).rename(columns={'Alarm Title':'Alarms List'})\n",
    "\n",
    "full_seg_data['Segment Length'] = full_seg_data['Alarms List'].apply(len)\n"
   ]
  },
  {
   "cell_type": "code",
   "execution_count": 14,
   "id": "fcc4de11-f437-4c67-8513-48351a85b814",
   "metadata": {},
   "outputs": [
    {
     "data": {
      "text/plain": [
       "<Axes: >"
      ]
     },
     "execution_count": 14,
     "metadata": {},
     "output_type": "execute_result"
    },
    {
     "data": {
      "image/png": "[encoded data removed]",
      "text/plain": [
       "<Figure size 640x480 with 1 Axes>"
      ]
     },
     "metadata": {},
     "output_type": "display_data"
    }
   ],
   "source": [
    "full_seg_data['Segment Length'].hist(bins=30, log=True)"
   ]
  },
  {
   "cell_type": "code",
   "execution_count": 23,
   "id": "43638ee9-5449-4441-972d-6690f0e6af13",
   "metadata": {},
   "outputs": [],
   "source": [
    "model = SentenceTransformer('trained_models/model_tripletloss.sav', truncate_dim=768)"
   ]
  },
  {
   "cell_type": "code",
   "execution_count": null,
   "id": "6c0845bd-bebf-47a3-b531-bccc5ddcd4ad",
   "metadata": {},
   "outputs": [],
   "source": [
    "full_seg_data['Embeddings List'] = full_seg_data['Alarms List'].apply(lambda row: [model.encode(alarm) for alarm in row])"
   ]
  },
  {
   "cell_type": "code",
   "execution_count": null,
   "id": "c793cf1e-3e3a-4e8d-9d56-79d320545885",
   "metadata": {},
   "outputs": [],
   "source": [
    "full_seg_data.to_csv('.\\segments_with_title_only.csv')"
   ]
  },
  {
   "cell_type": "code",
   "execution_count": null,
   "id": "8b5d6f63-c99d-4cf4-a56a-78f50341bd9b",
   "metadata": {},
   "outputs": [],
   "source": []
  }
 ],
 "metadata": {
  "kernelspec": {
   "display_name": "Python 3 (ipykernel)",
   "language": "python",
   "name": "python3"
  },
  "language_info": {
   "codemirror_mode": {
    "name": "ipython",
    "version": 3
   },
   "file_extension": ".py",
   "mimetype": "text/x-python",
   "name": "python",
   "nbconvert_exporter": "python",
   "pygments_lexer": "ipython3",
   "version": "3.11.3"
  }
 },
 "nbformat": 4,
 "nbformat_minor": 5
}
